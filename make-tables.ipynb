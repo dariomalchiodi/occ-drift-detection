{
 "cells": [
  {
   "cell_type": "code",
   "execution_count": 1,
   "metadata": {},
   "outputs": [],
   "source": [
    "import json\n",
    "\n",
    "import pandas as pd\n",
    "\n",
    "with open('result.json', 'r') as f:\n",
    "    result = json.load(f)\n",
    "df_res = pd.DataFrame(result)\n",
    "\n",
    "def make_mean_std_col(df, mean_col, std_col):\n",
    "    mean_col = pd.Series.round(df[mean_col], 2).astype(str)\n",
    "    std_col = pd.Series.round(df[std_col], 2).astype(str)\n",
    "    return mean_col + '±' + std_col\n",
    "\n",
    "def make_pivot_table(df, mean_col, std_col):\n",
    "    result = make_mean_std_col(df, mean_col, std_col)\n",
    "    df_result = df.drop([mean_col, std_col], axis=1)\n",
    "    df_result['result'] = result\n",
    "    return df_result.pivot('dataset', 'method', 'result')"
   ]
  },
  {
   "cell_type": "code",
   "execution_count": 2,
   "metadata": {},
   "outputs": [],
   "source": [
    "df_acc = df_res.drop(['drift_detected_mean', 'drift_detected_std'], axis=1)\n",
    "df_drift = df_res.drop(['accuracy_mean', 'accuracy_std'], axis=1)"
   ]
  },
  {
   "cell_type": "code",
   "execution_count": 3,
   "metadata": {},
   "outputs": [
    {
     "data": {
      "text/html": [
       "<div>\n",
       "<style scoped>\n",
       "    .dataframe tbody tr th:only-of-type {\n",
       "        vertical-align: middle;\n",
       "    }\n",
       "\n",
       "    .dataframe tbody tr th {\n",
       "        vertical-align: top;\n",
       "    }\n",
       "\n",
       "    .dataframe thead th {\n",
       "        text-align: right;\n",
       "    }\n",
       "</style>\n",
       "<table border=\"1\" class=\"dataframe\">\n",
       "  <thead>\n",
       "    <tr style=\"text-align: right;\">\n",
       "      <th>method</th>\n",
       "      <th>BDD</th>\n",
       "      <th>HDD</th>\n",
       "      <th>SDD</th>\n",
       "    </tr>\n",
       "    <tr>\n",
       "      <th>dataset</th>\n",
       "      <th></th>\n",
       "      <th></th>\n",
       "      <th></th>\n",
       "    </tr>\n",
       "  </thead>\n",
       "  <tbody>\n",
       "    <tr>\n",
       "      <th>LUdata</th>\n",
       "      <td>0.99±0.0</td>\n",
       "      <td>1.0±0.0</td>\n",
       "      <td>0.99±0.01</td>\n",
       "    </tr>\n",
       "    <tr>\n",
       "      <th>chessweka</th>\n",
       "      <td>0.71±0.01</td>\n",
       "      <td>0.76±0.02</td>\n",
       "      <td>0.58±0.01</td>\n",
       "    </tr>\n",
       "  </tbody>\n",
       "</table>\n",
       "</div>"
      ],
      "text/plain": [
       "method           BDD        HDD        SDD\n",
       "dataset                                   \n",
       "LUdata      0.99±0.0    1.0±0.0  0.99±0.01\n",
       "chessweka  0.71±0.01  0.76±0.02  0.58±0.01"
      ]
     },
     "execution_count": 3,
     "metadata": {},
     "output_type": "execute_result"
    }
   ],
   "source": [
    "make_pivot_table(df_acc, 'accuracy_mean', 'accuracy_std')"
   ]
  },
  {
   "cell_type": "code",
   "execution_count": 4,
   "metadata": {},
   "outputs": [
    {
     "data": {
      "text/html": [
       "<div>\n",
       "<style scoped>\n",
       "    .dataframe tbody tr th:only-of-type {\n",
       "        vertical-align: middle;\n",
       "    }\n",
       "\n",
       "    .dataframe tbody tr th {\n",
       "        vertical-align: top;\n",
       "    }\n",
       "\n",
       "    .dataframe thead th {\n",
       "        text-align: right;\n",
       "    }\n",
       "</style>\n",
       "<table border=\"1\" class=\"dataframe\">\n",
       "  <thead>\n",
       "    <tr style=\"text-align: right;\">\n",
       "      <th>method</th>\n",
       "      <th>BDD</th>\n",
       "      <th>HDD</th>\n",
       "      <th>SDD</th>\n",
       "    </tr>\n",
       "    <tr>\n",
       "      <th>dataset</th>\n",
       "      <th></th>\n",
       "      <th></th>\n",
       "      <th></th>\n",
       "    </tr>\n",
       "  </thead>\n",
       "  <tbody>\n",
       "    <tr>\n",
       "      <th>LUdata</th>\n",
       "      <td>10.0±0.0</td>\n",
       "      <td>0.0±0.0</td>\n",
       "      <td>1.0±0.0</td>\n",
       "    </tr>\n",
       "    <tr>\n",
       "      <th>chessweka</th>\n",
       "      <td>2.0±0.0</td>\n",
       "      <td>1.0±0.0</td>\n",
       "      <td>2.0±0.0</td>\n",
       "    </tr>\n",
       "  </tbody>\n",
       "</table>\n",
       "</div>"
      ],
      "text/plain": [
       "method          BDD      HDD      SDD\n",
       "dataset                              \n",
       "LUdata     10.0±0.0  0.0±0.0  1.0±0.0\n",
       "chessweka   2.0±0.0  1.0±0.0  2.0±0.0"
      ]
     },
     "execution_count": 4,
     "metadata": {},
     "output_type": "execute_result"
    }
   ],
   "source": [
    "make_pivot_table(df_drift, 'drift_detected_mean', 'drift_detected_std')"
   ]
  },
  {
   "cell_type": "code",
   "execution_count": null,
   "metadata": {},
   "outputs": [],
   "source": []
  }
 ],
 "metadata": {
  "kernelspec": {
   "display_name": "base",
   "language": "python",
   "name": "python3"
  },
  "language_info": {
   "codemirror_mode": {
    "name": "ipython",
    "version": 3
   },
   "file_extension": ".py",
   "mimetype": "text/x-python",
   "name": "python",
   "nbconvert_exporter": "python",
   "pygments_lexer": "ipython3",
   "version": "3.9.7"
  }
 },
 "nbformat": 4,
 "nbformat_minor": 2
}
